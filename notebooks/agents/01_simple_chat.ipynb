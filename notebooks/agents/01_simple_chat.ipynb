{
 "cells": [
  {
   "cell_type": "markdown",
   "metadata": {},
   "source": [
    "# Simple Chat\n",
    "\n",
    "The most simple agent system\n",
    "\n",
    "### Lang Graph\n",
    "\n",
    "Agentensysteme sind Zustandsautomaten die \"kompiliert\" werden, und statisch sind"
   ]
  },
  {
   "cell_type": "code",
   "execution_count": null,
   "metadata": {},
   "outputs": [],
   "source": [
    "from typing import Annotated, TypedDict\n",
    "\n",
    "from IPython.display import Image, display\n",
    "from langchain_openai import AzureChatOpenAI\n",
    "from langgraph.graph import END, START, StateGraph\n",
    "from langgraph.graph.message import add_messages\n",
    "\n",
    "llm = AzureChatOpenAI(model=\"gpt4o\",azure_deployment=\"ara-gpt4o\", temperature=0.7)\n",
    "\n",
    "class State(TypedDict):\n",
    "    \"\"\"The state of the agent.\"\"\"\n",
    "    messages: Annotated[list, add_messages]\n",
    "\n",
    "\n",
    "def SimpleAgent(state: State):\n",
    "    \"\"\"The agent.\"\"\"\n",
    "    return {\"messages\": [llm.invoke(state[\"messages\"])]}\n",
    "\n",
    "# Baue Zustandsautomaten\n",
    "graph_builder = StateGraph(State)\n",
    "graph_builder.add_node(\"chatbot\", SimpleAgent)\n",
    "graph_builder.add_edge(START, \"chatbot\")\n",
    "graph_builder.add_edge(\"chatbot\", END)\n",
    "graph = graph_builder.compile()\n",
    "\n",
    "display(Image(graph.get_graph().draw_mermaid_png()))\n",
    "\n",
    "\n"
   ]
  },
  {
   "cell_type": "code",
   "execution_count": null,
   "metadata": {},
   "outputs": [],
   "source": [
    "def stream_graph_updates(user_input: str):\n",
    "    \"\"\"Send user input to the graph and print the responses.\"\"\"\n",
    "    for event in graph.stream({\"messages\": [{\n",
    "            \"role\": \"human\",\n",
    "            \"content\": user_input,\n",
    "        }]}):\n",
    "        for value in event.values():\n",
    "            print(\"Assistant:\", value[\"messages\"][-1].content)\n",
    "\n",
    "\n",
    "while True:\n",
    "    user_input = input(\"User: \")\n",
    "    if user_input.lower() in [\"quit\", \"exit\", \"q\"]:\n",
    "        print(\"Goodbye!\")\n",
    "        break\n",
    "\n",
    "    stream_graph_updates(user_input)\n"
   ]
  },
  {
   "cell_type": "markdown",
   "metadata": {},
   "source": [
    "### Schwarm\n",
    "\n",
    "Keine Notwendigkeit zu wissen wie ein Agentensystem zur Laufzeit ausschaut.\n",
    "Alles dynamisierbar, und manipulierbar\n",
    "\n",
    "Agenten entscheiden wen sie als nächstes aufrufen, nicht das übergeordnete System!"
   ]
  },
  {
   "cell_type": "code",
   "execution_count": null,
   "metadata": {},
   "outputs": [],
   "source": [
    "from schwarm.core.schwarm import Schwarm\n",
    "from schwarm.models.agents.user_agent import UserAgent\n",
    "from schwarm.models.types import Agent\n",
    "from schwarm.provider.llm_provider import LLMConfig\n",
    "\n",
    "chat_agent = Agent(name=\"chat_agent\", configs=[LLMConfig(name=\"gpt-4o\", streaming=True)])\n",
    "user_agent = UserAgent(agent_to_pass_to=chat_agent, default_handoff_agent=True)\n",
    "\n",
    "response = Schwarm().quickstart(user_agent)"
   ]
  },
  {
   "cell_type": "markdown",
   "metadata": {},
   "source": [
    "### Autogen"
   ]
  },
  {
   "cell_type": "markdown",
   "metadata": {},
   "source": [
    "### CrewAi"
   ]
  }
 ],
 "metadata": {
  "kernelspec": {
   "display_name": ".venv",
   "language": "python",
   "name": "python3"
  },
  "language_info": {
   "codemirror_mode": {
    "name": "ipython",
    "version": 3
   },
   "file_extension": ".py",
   "mimetype": "text/x-python",
   "name": "python",
   "nbconvert_exporter": "python",
   "pygments_lexer": "ipython3",
   "version": "3.12.8"
  }
 },
 "nbformat": 4,
 "nbformat_minor": 2
}
