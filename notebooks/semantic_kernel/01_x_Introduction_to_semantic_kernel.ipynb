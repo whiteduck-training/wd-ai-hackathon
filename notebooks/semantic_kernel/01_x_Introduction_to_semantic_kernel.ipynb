{
 "cells": [
  {
   "cell_type": "markdown",
   "metadata": {},
   "source": [
    "# Practical Part\n",
    "\n",
    "Implement a small app that uses all concepts introduced in the theory part.\n",
    "\n",
    "Ideas:\n",
    "\n",
    "    - Fusion-Chef: Combines two dishes into something new - also knows the fitting cocktail to everything. Saves delicious sounding recipes in the memory.\n",
    "    - QnA Bot: Searches a prefilled memory for answers to certain questions\n",
    "    - Roleplay Gamemaster: Generates roleplay encounters and keeps track of the party's items & stats\n",
    "    - Shell Meister: Can translate natural language into shell commands and executes them (only recommended when using a devcontainer). Saves the results in memory if the system is still working...."
   ]
  },
  {
   "cell_type": "code",
   "execution_count": null,
   "metadata": {},
   "outputs": [],
   "source": []
  }
 ],
 "metadata": {
  "language_info": {
   "name": "python"
  }
 },
 "nbformat": 4,
 "nbformat_minor": 2
}
