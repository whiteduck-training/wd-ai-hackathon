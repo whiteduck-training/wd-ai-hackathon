{
 "cells": [
  {
   "cell_type": "markdown",
   "metadata": {},
   "source": [
    "# Fusion-Chef Exercise\n",
    "\n",
    "This notebook implements a Fusion-Chef bot that:\n",
    "1. Combines two dishes into a creative fusion dish\n",
    "2. Suggests matching cocktails\n",
    "3. Stores successful recipes in memory"
   ]
  },
  {
   "cell_type": "code",
   "execution_count": null,
   "metadata": {},
   "outputs": [],
   "source": [
    "import os\n",
    "import sys\n",
    "\n",
    "notebook_dir = os.path.abspath(\"\")\n",
    "parent_dir = os.path.dirname(notebook_dir)\n",
    "grandparent_dir = os.path.dirname(parent_dir)\n",
    "\n",
    "sys.path.append(grandparent_dir)"
   ]
  },
  {
   "cell_type": "markdown",
   "metadata": {},
   "source": [
    "### 1. Initialize Kernel and Services "
   ]
  },
  {
   "cell_type": "code",
   "execution_count": null,
   "metadata": {},
   "outputs": [],
   "source": [
    "from semantic_kernel import Kernel\n",
    "from semantic_kernel.connectors.ai.open_ai import AzureChatCompletion, AzureTextEmbedding\n",
    "from semantic_kernel.memory.semantic_text_memory import SemanticTextMemory\n",
    "from semantic_kernel.memory.volatile_memory_store import VolatileMemoryStore\n",
    "from semantic_kernel.core_plugins.text_memory_plugin import TextMemoryPlugin\n",
    "\n",
    "kernel = Kernel()\n",
    "\n",
    "service_id = \"chat-gpt\"\n",
    "chat_service = AzureChatCompletion(\n",
    "    service_id=service_id,\n",
    ")\n",
    "\n",
    "embedding_service_id = \"embeddings\"\n",
    "kernel.add_service(AzureTextEmbedding(service_id=embedding_service_id))\n",
    "\n",
    "kernel.add_service(chat_service)"
   ]
  },
  {
   "cell_type": "markdown",
   "metadata": {},
   "source": [
    "### 2. Setup Memory "
   ]
  },
  {
   "cell_type": "code",
   "execution_count": null,
   "metadata": {},
   "outputs": [],
   "source": [
    "memory_store = VolatileMemoryStore()\n",
    "memory = SemanticTextMemory(storage=memory_store, embeddings_generator=kernel.get_service(embedding_service_id))\n",
    "kernel.add_plugin(TextMemoryPlugin(memory), \"TextMemoryPlugin\")"
   ]
  },
  {
   "cell_type": "markdown",
   "metadata": {},
   "source": [
    "### 3. Define Prompts (experiment with these!)"
   ]
  },
  {
   "cell_type": "code",
   "execution_count": null,
   "metadata": {},
   "outputs": [],
   "source": [
    "# Prompt for creating fusion dishes\n",
    "fusion_prompt = \"\"\"\n",
    "Dish 1: {{$dish1}}\n",
    "Dish 2: {{$dish2}}\n",
    "\n",
    "Create a unique fusion dish that combines elements from both dishes.\n",
    "Be creative but make sure the combination makes culinary sense.\n",
    "\n",
    "Provide the response in this format:\n",
    "🍽️ Fusion Name: [creative name for the dish]\n",
    "📋 Description: [brief description]\n",
    "🥘 Key Ingredients: [main ingredients]\n",
    "👨‍🍳 Preparation: [key steps]\n",
    "\"\"\"\n",
    "\n",
    "# Prompt for suggesting cocktails\n",
    "cocktail_prompt = \"\"\"\n",
    "Fusion Dish: {{$fusion_dish}}\n",
    "\n",
    "Suggest a creative cocktail that would pair well with this fusion dish.\n",
    "Consider the flavors and cultural elements of the dish.\n",
    "\n",
    "Provide the response in this format:\n",
    "🍸 Cocktail Name: [creative name]\n",
    "🌟 Style: [type of cocktail]\n",
    "🧉 Ingredients: [list of ingredients]\n",
    "✨ Why it pairs well: [brief explanation]\n",
    "\"\"\"\n",
    "\n",
    "# Create semantic functions\n",
    "fusion_function = kernel.add_function(\n",
    "    prompt=fusion_prompt,\n",
    "    function_name=\"create_fusion\",\n",
    "    plugin_name=\"FusionChef\",\n",
    ")\n",
    "\n",
    "cocktail_function = kernel.add_function(\n",
    "    prompt=cocktail_prompt,\n",
    "    function_name=\"suggest_cocktail\",\n",
    "    plugin_name=\"FusionChef\",\n",
    ")"
   ]
  },
  {
   "cell_type": "markdown",
   "metadata": {},
   "source": [
    "### 4. Example Usage"
   ]
  },
  {
   "cell_type": "code",
   "execution_count": null,
   "metadata": {},
   "outputs": [],
   "source": [
    "# Create some fusion dishes\n",
    "dish_pairs = [\n",
    "    (\"Sushi\", \"Tacos\"),\n",
    "    (\"Pizza\", \"Pad Thai\"),\n",
    "    (\"Hamburger\", \"Dim Sum\")\n",
    "]\n",
    "\n",
    "for dish1, dish2 in dish_pairs:\n",
    "    # Create fusion dish\n",
    "    fusion = await kernel.invoke(\n",
    "        fusion_function,\n",
    "        dish1=dish1,\n",
    "        dish2=dish2\n",
    "    )\n",
    "    print(f\"\\nFusing {dish1} with {dish2}:\\n{fusion}\")\n",
    "    \n",
    "    # Get cocktail pairing\n",
    "    cocktail = await kernel.invoke(\n",
    "        cocktail_function,\n",
    "        fusion_dish=str(fusion)\n",
    "    )\n",
    "    print(f\"\\nSuggested Pairing:\\n{cocktail}\")\n",
    "    \n",
    "    # Store successful recipe in memory\n",
    "    await memory.save_information(\n",
    "        collection=\"recipes\",\n",
    "        id=f\"fusion_{dish1}_{dish2}\".lower().replace(\" \", \"_\"),\n",
    "        text=f\"Fusion Dish:\\n{fusion}\\n\\nCocktail Pairing:\\n{cocktail}\"\n",
    "    )"
   ]
  },
  {
   "cell_type": "markdown",
   "metadata": {},
   "source": [
    "### 5. Search Saved Recipes"
   ]
  },
  {
   "cell_type": "code",
   "execution_count": null,
   "metadata": {},
   "outputs": [],
   "source": [
    "# Search for recipes by ingredient or style\n",
    "search_terms = [\"spicy\", \"seafood\", \"Asian fusion\"]\n",
    "\n",
    "for term in search_terms:\n",
    "    print(f\"\\nSearching recipes related to '{term}':\\n\")\n",
    "    results = await memory.search(\"recipes\", term)\n",
    "    for result in results:\n",
    "        print(f\"Match (relevance: {result.relevance}):\\n{result.text}\\n\")"
   ]
  },
  {
   "cell_type": "markdown",
   "metadata": {},
   "source": [
    "### 6. Additional exercises\n",
    "\n",
    "Try these exercises:\n",
    "1. Modify the fusion_prompt to include nutritional information\n",
    "2. Add a new prompt to create vegetarian versions of fusion dishes\n",
    "3. Create a function to rate the creativity of fusion combinations\n",
    "4. Add a prompt to suggest wine pairings instead of cocktails\n",
    "5. Implement a way to filter recipes by dietary restrictions"
   ]
  }
 ],
 "metadata": {
  "kernelspec": {
   "display_name": ".venv",
   "language": "python",
   "name": "python3"
  },
  "language_info": {
   "codemirror_mode": {
    "name": "ipython",
    "version": 3
   },
   "file_extension": ".py",
   "mimetype": "text/x-python",
   "name": "python",
   "nbconvert_exporter": "python",
   "pygments_lexer": "ipython3",
   "version": "3.12.4"
  }
 },
 "nbformat": 4,
 "nbformat_minor": 4
}
