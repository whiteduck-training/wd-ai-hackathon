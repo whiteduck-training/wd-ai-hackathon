{
 "cells": [
  {
   "cell_type": "markdown",
   "metadata": {},
   "source": [
    "# Shell Meister Exercise\n",
    "\n",
    "This notebook implements a Shell Command Assistant that:\n",
    "1. Translates natural language to Linux shell commands\n",
    "2. Explains what each command does\n",
    "3. Stores successful commands in memory for future reference\n",
    "\n",
    "**Note**: This is designed for a Linux devcontainer environment. Use with caution as shell commands can modify your system."
   ]
  },
  {
   "cell_type": "code",
   "execution_count": null,
   "metadata": {},
   "outputs": [],
   "source": [
    "import os\n",
    "import sys\n",
    "\n",
    "notebook_dir = os.path.abspath(\"\")\n",
    "parent_dir = os.path.dirname(notebook_dir)\n",
    "grandparent_dir = os.path.dirname(parent_dir)\n",
    "\n",
    "sys.path.append(grandparent_dir)"
   ]
  },
  {
   "cell_type": "markdown",
   "metadata": {},
   "source": [
    "### 1. Initialize Kernel and Services "
   ]
  },
  {
   "cell_type": "code",
   "execution_count": null,
   "metadata": {},
   "outputs": [],
   "source": [
    "from semantic_kernel import Kernel\n",
    "from semantic_kernel.connectors.ai.open_ai import AzureChatCompletion, AzureTextEmbedding\n",
    "from semantic_kernel.memory.semantic_text_memory import SemanticTextMemory\n",
    "from semantic_kernel.memory.volatile_memory_store import VolatileMemoryStore\n",
    "from semantic_kernel.core_plugins.text_memory_plugin import TextMemoryPlugin\n",
    "\n",
    "kernel = Kernel()\n",
    "\n",
    "service_id = \"chat-gpt\"\n",
    "chat_service = AzureChatCompletion(\n",
    "    service_id=service_id,\n",
    ")\n",
    "\n",
    "embedding_service_id = \"embeddings\"\n",
    "kernel.add_service(AzureTextEmbedding(service_id=embedding_service_id))\n",
    "\n",
    "kernel.add_service(chat_service)"
   ]
  },
  {
   "cell_type": "markdown",
   "metadata": {},
   "source": [
    "### 2. Setup Memory "
   ]
  },
  {
   "cell_type": "code",
   "execution_count": null,
   "metadata": {},
   "outputs": [],
   "source": [
    "memory_store = VolatileMemoryStore()\n",
    "memory = SemanticTextMemory(storage=memory_store, embeddings_generator=kernel.get_service(embedding_service_id))\n",
    "kernel.add_plugin(TextMemoryPlugin(memory), \"TextMemoryPlugin\")"
   ]
  },
  {
   "cell_type": "markdown",
   "metadata": {},
   "source": [
    "### 3. Define Prompts (experiment with these!)"
   ]
  },
  {
   "cell_type": "code",
   "execution_count": null,
   "metadata": {},
   "outputs": [],
   "source": [
    "# Prompt for translating natural language to shell commands\n",
    "command_prompt = \"\"\"\n",
    "Task: {{$task}}\n",
    "\n",
    "Convert this task into a Linux shell command. The command will run in a devcontainer environment.\n",
    "Ensure the command is safe and won't cause system damage.\n",
    "Use common Linux tools and commands.\n",
    "\n",
    "Provide the response in this format:\n",
    "🔧 Command: [the shell command]\n",
    "📝 Explanation: [explain what each part of the command does]\n",
    "⚠️ Caution: [any warnings or considerations]\n",
    "\"\"\"\n",
    "\n",
    "# Prompt for suggesting command variations\n",
    "variation_prompt = \"\"\"\n",
    "Command: {{$command}}\n",
    "\n",
    "Suggest alternative ways to achieve the same result using different Linux commands or options.\n",
    "Focus on common alternatives that might be more efficient or easier to understand.\n",
    "\n",
    "Provide the response in this format:\n",
    "🔄 Alternative 1:\n",
    "  Command: [alternative command]\n",
    "  Why: [why this might be better]\n",
    "\n",
    "🔄 Alternative 2:\n",
    "  Command: [alternative command]\n",
    "  Why: [why this might be better]\n",
    "\"\"\"\n",
    "\n",
    "# Create semantic functions\n",
    "command_function = kernel.add_function(\n",
    "    prompt=command_prompt,\n",
    "    function_name=\"translate_to_command\",\n",
    "    plugin_name=\"ShellMeister\",\n",
    ")\n",
    "\n",
    "variation_function = kernel.add_function(\n",
    "    prompt=variation_prompt,\n",
    "    function_name=\"suggest_variations\",\n",
    "    plugin_name=\"ShellMeister\",\n",
    ")"
   ]
  },
  {
   "cell_type": "markdown",
   "metadata": {},
   "source": [
    "### 4. Example Usage"
   ]
  },
  {
   "cell_type": "code",
   "execution_count": null,
   "metadata": {},
   "outputs": [],
   "source": [
    "# Example tasks to convert to commands\n",
    "tasks = [\n",
    "    \"Find all Python files in the current directory and count how many lines each has\",\n",
    "    \"Show system resource usage, including CPU and memory\",\n",
    "    \"Create a backup of all .txt files, compressed into a timestamped archive\"\n",
    "]\n",
    "\n",
    "for task in tasks:\n",
    "    # Get command for task\n",
    "    command_result = await kernel.invoke(\n",
    "        command_function,\n",
    "        task=task\n",
    "    )\n",
    "    print(f\"\\nTask: {task}\\n{command_result}\")\n",
    "    \n",
    "    # Get command variations\n",
    "    variations = await kernel.invoke(\n",
    "        variation_function,\n",
    "        command=str(command_result)\n",
    "    )\n",
    "    print(f\"\\nVariations:\\n{variations}\")\n",
    "    \n",
    "    # Store in memory\n",
    "    await memory.save_information(\n",
    "        collection=\"shell_commands\",\n",
    "        id=f\"cmd_{hash(task)}\",\n",
    "        text=f\"Task: {task}\\n\\nSolution:\\n{command_result}\\n\\nVariations:\\n{variations}\"\n",
    "    )"
   ]
  },
  {
   "cell_type": "markdown",
   "metadata": {},
   "source": [
    "### 5. Search Command History"
   ]
  },
  {
   "cell_type": "code",
   "execution_count": null,
   "metadata": {},
   "outputs": [],
   "source": [
    "# Search for commands by description or purpose\n",
    "search_terms = [\"file search\", \"backup\", \"system monitoring\"]\n",
    "\n",
    "for term in search_terms:\n",
    "    print(f\"\\nSearching commands related to '{term}':\\n\")\n",
    "    results = await memory.search(\"shell_commands\", term)\n",
    "    for result in results:\n",
    "        print(f\"Match (relevance: {result.relevance}):\\n{result.text}\\n\")"
   ]
  },
  {
   "cell_type": "markdown",
   "metadata": {},
   "source": [
    "### 6. Additional exercises\n",
    "\n",
    "Try these exercises:\n",
    "1. Modify the command_prompt to include examples of command usage\n",
    "2. Add a new prompt to explain complex pipeline commands\n",
    "3. Create a function to rate command complexity and suggest simpler alternatives\n",
    "4. Implement a way to categorize commands by their purpose (file ops, system monitoring, etc.)\n",
    "5. Add safety checks to prevent potentially dangerous commands\n",
    "\n",
    "**Remember**: Always review commands before executing them, especially if they modify the system!"
   ]
  }
 ],
 "metadata": {
  "kernelspec": {
   "display_name": ".venv",
   "language": "python",
   "name": "python3"
  },
  "language_info": {
   "codemirror_mode": {
    "name": "ipython",
    "version": 3
   },
   "file_extension": ".py",
   "mimetype": "text/x-python",
   "name": "python",
   "nbconvert_exporter": "python",
   "pygments_lexer": "ipython3",
   "version": "3.12.4"
  }
 },
 "nbformat": 4,
 "nbformat_minor": 4
}
